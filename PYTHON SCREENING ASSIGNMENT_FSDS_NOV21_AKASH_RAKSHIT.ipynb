{
 "cells": [
  {
   "cell_type": "markdown",
   "id": "63ac1812",
   "metadata": {},
   "source": [
    "## 1. Create a function in python to read the text file and replace specific content of the file."
   ]
  },
  {
   "cell_type": "code",
   "execution_count": 1,
   "id": "f02493f3",
   "metadata": {},
   "outputs": [],
   "source": [
    "def modify_text(file_name,x,y,address):\n",
    "    try:\n",
    "        f = open(file_name, \"r+\")\n",
    "\n",
    "        # each sentence becomes an element in the list l\n",
    "        l = f.readlines()\n",
    "\n",
    "        # acts as a counter to know the\n",
    "        # index of the element to be replaced\n",
    "        for i in l:\n",
    "            if x in i:\n",
    "\n",
    "                # Replacement carries the value\n",
    "                # of the text to be replaced\n",
    "                Replacement = i.replace(x, y)\n",
    "\n",
    "                # changes are made in the list\n",
    "                l = Replacement\n",
    "\n",
    "        # The pre existing text in the file is erased\n",
    "        f.truncate(0)\n",
    "\n",
    "        # the modified list is written into\n",
    "        # the file thereby replacing the old text\n",
    "        f.seek(0)\n",
    "        f.writelines(l)\n",
    "        f.close()\n",
    "        print(\"Text successfully replaced\")\n",
    "        \n",
    "    except Exception as e:\n",
    "        if e =='UnicodeDecodeError':\n",
    "            f = open(file_name, \"r+\", encoding ='utf8')\n",
    "        else:    \n",
    "            print('File is not in the same folder as program.')\n",
    "        \n",
    "            f = open(address, \"r+\")\n",
    "\n",
    "        # each sentence becomes an element in the list l\n",
    "        l = f.readlines()\n",
    "\n",
    "        # acts as a counter to know the\n",
    "        # index of the element to be replaced\n",
    "        for i in l:\n",
    "            if x in i:\n",
    "\n",
    "                # Replacement carries the value\n",
    "                # of the text to be replaced\n",
    "                Replacement = i.replace(x, y)\n",
    "\n",
    "                # changes are made in the list\n",
    "                l = Replacement\n",
    "\n",
    "        # The pre existing text in the file is erased\n",
    "        f.truncate(0)\n",
    "\n",
    "        # the modified list is written into\n",
    "        # the file thereby replacing the old text\n",
    "        f.seek(0)\n",
    "        f.writelines(l)\n",
    "        f.close()\n",
    "        print(\"Text successfully replaced\")\n",
    "        "
   ]
  },
  {
   "cell_type": "code",
   "execution_count": 2,
   "id": "47951d79",
   "metadata": {},
   "outputs": [
    {
     "name": "stdout",
     "output_type": "stream",
     "text": [
      "enter file name:example.txt\n",
      "enter text to be replaced:placement\n",
      "enter text that will replace:screening\n"
     ]
    }
   ],
   "source": [
    "# Python program to replace text in a file\n",
    "file_name = input('enter file name:')\n",
    "x = input(\"enter text to be replaced:\")\n",
    "y = input(\"enter text that will replace:\")\n"
   ]
  },
  {
   "cell_type": "code",
   "execution_count": 3,
   "id": "17698cd5",
   "metadata": {},
   "outputs": [
    {
     "name": "stdout",
     "output_type": "stream",
     "text": [
      "enter address:E:\\STUDIES\\data science\\ML\\example.txt\n"
     ]
    }
   ],
   "source": [
    "address = input('enter address:')"
   ]
  },
  {
   "cell_type": "code",
   "execution_count": 4,
   "id": "d830eec4",
   "metadata": {},
   "outputs": [
    {
     "name": "stdout",
     "output_type": "stream",
     "text": [
      "File is not in the same folder as program.\n",
      "Text successfully replaced\n"
     ]
    }
   ],
   "source": [
    "modify_text(file_name,x,y,address)"
   ]
  },
  {
   "cell_type": "markdown",
   "id": "01abc748",
   "metadata": {},
   "source": [
    "## 2. ABSTRACT CLASS\n",
    "\n",
    "Abstract Classes are those classes which cannot be instantiated or whose objects cannot be created. So we use an abstract class as a template and according to the need, we extend it and build on it before we can use it.They are basically subclasses of the abc(Abstract Base Class) module in python. A class is called abstract class only if it has at least one abstract method. An abstract method is a method which only has declaration and doesn't have definition or implementation.\n",
    "\n",
    "When we inherit a abstract class as a parent to the child class, the child class should define all the abstract method present in parent class.If it is not done then child class also becomes abstract class automatically.\n",
    "\n",
    "Why use Abstract Base Classes?\n",
    "\n",
    "By defining an abstract base class, we can define a common Application Program Interface(API) for a set of subclasses. This capability is especially useful in situations where a third-party is going to provide implementations, such as with plugins, but can also help you when working in a large team or with a large code-base where keeping all classes in your mind is difficult or not possible. "
   ]
  },
  {
   "cell_type": "code",
   "execution_count": 6,
   "id": "c5ea7dca",
   "metadata": {},
   "outputs": [
    {
     "name": "stdout",
     "output_type": "stream",
     "text": [
      "You know nothing\n",
      "King in the North\n",
      "The Hero\n",
      "The assassin\n"
     ]
    }
   ],
   "source": [
    "#abstract class = a class which contains one or more abstract methods.\n",
    "#abstract method = a method that has a declaration but does not have an implementation.\n",
    "\n",
    "# prevents a user from creating an object of that class\n",
    "# + compels a user to override abstract methods in a child class\n",
    "\n",
    "from abc import ABC, abstractmethod\n",
    "\n",
    "class Game_of_thrones(ABC):\n",
    "\n",
    "    @abstractmethod\n",
    "    def go(self):\n",
    "        pass\n",
    "\n",
    "    @abstractmethod\n",
    "    def stop(self):\n",
    "        pass\n",
    "\n",
    "class Jon_Snow(Game_of_thrones):\n",
    "\n",
    "    def go(self):\n",
    "        print(\"You know nothing\")\n",
    "\n",
    "    def stop(self):\n",
    "        print(\"The Hero\")\n",
    "\n",
    "class Arya(Game_of_thrones):\n",
    "\n",
    "    def go(self):\n",
    "        print(\"King in the North\")\n",
    "\n",
    "    def stop(self):\n",
    "        print(\"The assassin\")\n",
    "\n",
    "\n",
    "#vehicle = Vehicle()\n",
    "Jon = Jon_Snow()\n",
    "Arya = Arya()\n",
    "\n",
    "#vehicle.go()\n",
    "Jon.go()\n",
    "Arya.go()\n",
    "\n",
    "#vehicle.stop()\n",
    "Jon.stop()\n",
    "Arya.stop()"
   ]
  },
  {
   "cell_type": "markdown",
   "id": "e09a88d7",
   "metadata": {},
   "source": [
    "## MULTIPLE INHERITANCE"
   ]
  },
  {
   "cell_type": "markdown",
   "id": "defc654e",
   "metadata": {},
   "source": [
    "Inheritance is the mechanism to achieve the re-usability of code as one class(child class) can derive the properties of\n",
    "another class(parent class). \n",
    "It also provides transitivity ie. if class C inherits from P then all the sub-classes of C would also inherit from P.\n",
    "\n",
    "When a class is derived from more than one base class it is called multiple Inheritance. \n",
    "The derived class inherits all the features of the base case."
   ]
  },
  {
   "cell_type": "markdown",
   "id": "8aa61006",
   "metadata": {},
   "source": [
    "It refers to an ambiguity that arises when two classes Class2 and Class3 inherit from a superclass Class1 and class Class4 inherits from both Class2 and Class3. If there is a method “m” which is an overridden method in one of Class2 and Class3 or both then the ambiguity arises which of the method “m” Class4 should inherit."
   ]
  },
  {
   "cell_type": "code",
   "execution_count": 1,
   "id": "60db5c09",
   "metadata": {},
   "outputs": [
    {
     "name": "stdout",
     "output_type": "stream",
     "text": [
      "In Class2\n"
     ]
    }
   ],
   "source": [
    "# Python Program to depict multiple inheritance\n",
    "# when method is overridden in both classes\n",
    "\n",
    "class Class1:\n",
    "    def m(self):\n",
    "        print(\"In Class1\")\n",
    "\n",
    "class Class2(Class1):\n",
    "    def m(self):\n",
    "        print(\"In Class2\")\n",
    "\n",
    "class Class3(Class1):\n",
    "    def m(self):\n",
    "        print(\"In Class3\")\n",
    "\n",
    "class Class4(Class2, Class3):\n",
    "    pass\n",
    "\n",
    "obj = Class4()\n",
    "obj.m()\n"
   ]
  },
  {
   "cell_type": "markdown",
   "id": "fbafdffb",
   "metadata": {},
   "source": [
    "## Decorator in Python"
   ]
  },
  {
   "cell_type": "markdown",
   "id": "405a4030",
   "metadata": {},
   "source": [
    "Python decorators allow us to change the behavior of a function without modifying the function itself. It allow us to wrap another function in order to extend the behaviour of the wrapped function, without permanently modifying it."
   ]
  },
  {
   "cell_type": "code",
   "execution_count": 4,
   "id": "dacc049b",
   "metadata": {},
   "outputs": [
    {
     "name": "stdout",
     "output_type": "stream",
     "text": [
      "John\n",
      "John.Cena@email.com\n",
      "<bound method Employee.fullname of <__main__.Employee object at 0x000001F58754E790>>\n"
     ]
    }
   ],
   "source": [
    "class Employee:\n",
    "\n",
    "    def __init__(self, first, last):\n",
    "        self.first = first\n",
    "        self.last = last\n",
    "        self.email = first + '.' + last + '@email.com'\n",
    "\n",
    "   \n",
    "    def fullname(self):\n",
    "        return '{} {}'.format(self.first, self.last)\n",
    "\n",
    "\n",
    "emp_1 = Employee('John', 'Cena')\n",
    "\n",
    "print(emp_1.first)\n",
    "print(emp_1.email)\n",
    "print(emp_1.fullname)\n",
    "\n"
   ]
  },
  {
   "cell_type": "markdown",
   "id": "7972bf4b",
   "metadata": {},
   "source": [
    "In the above 'Employee' class the email attribute depends on the first name and last name. So when we create our Employee object emp_1 it sets the first name,lastname and email. The fullname method then goes onto print the first name and last name together."
   ]
  },
  {
   "cell_type": "code",
   "execution_count": 5,
   "id": "282074a0",
   "metadata": {},
   "outputs": [
    {
     "name": "stdout",
     "output_type": "stream",
     "text": [
      "Jim\n",
      "John.Cena@email.com\n",
      "<bound method Employee.fullname of <__main__.Employee object at 0x000001F587555790>>\n"
     ]
    }
   ],
   "source": [
    "class Employee:\n",
    "\n",
    "    def __init__(self, first, last):\n",
    "        self.first = first\n",
    "        self.last = last\n",
    "        self.email = first + '.' + last + '@email.com'\n",
    "\n",
    "   \n",
    "    def fullname(self):\n",
    "        return '{} {}'.format(self.first, self.last)\n",
    "\n",
    "\n",
    "emp_1 = Employee('John', 'Cena')\n",
    "emp_1.first = 'Jim'\n",
    "\n",
    "print(emp_1.first)\n",
    "print(emp_1.email)\n",
    "print(emp_1.fullname)\n"
   ]
  },
  {
   "cell_type": "markdown",
   "id": "eb897ad6",
   "metadata": {},
   "source": [
    "When we re-run the above program by setting the first name to 'Jim', the email still has the old first name inspite of\n",
    "the first name being changed to Jim.The fullname method grabs the CURRENT first name and last name \n",
    "therefore returns 'Jim Cena'.\n",
    "\n",
    "When this class will be reused they would want the email to be updated automatically whenever the first or last name is changed. A solution can be defining a email function just like the fullname function but the problem with it is that everyone currently using the class will have to change the instances of the email attribute to email method.\n",
    "\n",
    "We can solve this problem in python with help of DECORATORS.\n",
    "\n",
    "IT ALLOWS US TO DEFINE A METHOD BUT ACCESS IT LIKE AN ATTRIBUTE.\n",
    "\n",
    "The program below depicts the same.\n",
    "\n",
    "\n",
    "The @property decorator used in the line above where function method is defined helps us access the email method like an attribute instead of a method thus facilitating our need.\n",
    "\n",
    "@fullname.setter enables us to set a name to attribute .fullname with the help of object emp_1.\n",
    "@fullname.deleter enables us to delete the set attribute."
   ]
  },
  {
   "cell_type": "code",
   "execution_count": 7,
   "id": "d918d3e9",
   "metadata": {},
   "outputs": [
    {
     "name": "stdout",
     "output_type": "stream",
     "text": [
      "Akash\n",
      "Akash.Rakshit@email.com\n",
      "Akash Rakshit\n",
      "Delete Name!\n"
     ]
    }
   ],
   "source": [
    "class Employee:\n",
    "\n",
    "    def __init__(self, first, last):\n",
    "        self.first = first\n",
    "        self.last = last\n",
    "\n",
    "    @property\n",
    "    def email(self):\n",
    "        return '{}.{}@email.com'.format(self.first, self.last)\n",
    "\n",
    "    @property\n",
    "    def fullname(self):\n",
    "        return '{} {}'.format(self.first, self.last)\n",
    "    \n",
    "    @fullname.setter\n",
    "    def fullname(self, name):\n",
    "        first, last = name.split(' ')\n",
    "        self.first = first\n",
    "        self.last = last\n",
    "    \n",
    "    @fullname.deleter\n",
    "    def fullname(self):\n",
    "        print('Delete Name!')\n",
    "        self.first = None\n",
    "        self.last = None\n",
    "\n",
    "\n",
    "emp_1 = Employee('John', 'Cena')\n",
    "emp_1.fullname = \"Akash Rakshit\"\n",
    "\n",
    "print(emp_1.first)\n",
    "print(emp_1.email)\n",
    "print(emp_1.fullname)\n",
    "\n",
    "del emp_1.fullname"
   ]
  },
  {
   "cell_type": "code",
   "execution_count": null,
   "id": "06b538e8",
   "metadata": {},
   "outputs": [],
   "source": []
  }
 ],
 "metadata": {
  "kernelspec": {
   "display_name": "Python 3 (ipykernel)",
   "language": "python",
   "name": "python3"
  },
  "language_info": {
   "codemirror_mode": {
    "name": "ipython",
    "version": 3
   },
   "file_extension": ".py",
   "mimetype": "text/x-python",
   "name": "python",
   "nbconvert_exporter": "python",
   "pygments_lexer": "ipython3",
   "version": "3.9.7"
  }
 },
 "nbformat": 4,
 "nbformat_minor": 5
}
